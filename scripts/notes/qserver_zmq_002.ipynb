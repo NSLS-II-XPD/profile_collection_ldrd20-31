{
 "cells": [
  {
   "cell_type": "markdown",
   "id": "158b5e20-7870-4c6b-b838-c11727eee455",
   "metadata": {},
   "source": [
    "# Notes for using qserver and API in ipython\n",
    "\n",
    "### REManagerAPI\n",
    "#### https://blueskyproject.io/bluesky-queueserver-api/generated/bluesky_queueserver_api.BItem.html#bluesky_queueserver_api.BItem\n",
    "\n",
    "##### https://blueskyproject.io/bluesky-queueserver/re_manager_api.html#method-queue-clear"
   ]
  },
  {
   "cell_type": "markdown",
   "id": "11070b10-a5b0-4bb3-8faf-d57df9bb03e3",
   "metadata": {},
   "source": [
    "## 1. Open a terminal for qserver monitor info\n",
    "~$ conda activate 2024-1.0-py310-tiled\n",
    "\n",
    "~$ qserver-console-monitor --zmq-info-addr=tcp://xf28id2-ca2:60625"
   ]
  },
  {
   "cell_type": "markdown",
   "id": "e778c62f-4b37-45d2-aa6e-a1e5aa8e3f34",
   "metadata": {},
   "source": [
    "## 2. Open GUI qserver monitor\n",
    "~$ cd ~/Desktop\n",
    "\n",
    "~$ bash run-queue-monitor.sh\n",
    "\n",
    "\n",
    "Or  \n",
    "~$ queue-monitor --zmq-control-addr tcp://xf28id2-ca2:60615 --zmq-info-addr tcp://xf28id2-ca2:60625"
   ]
  },
  {
   "attachments": {},
   "cell_type": "markdown",
   "id": "c1098d2d-02d9-41e0-8411-84ba2797fbe8",
   "metadata": {},
   "source": [
    "## 3. Open another terminal for BSUI ipython (Optional)\n",
    "\n",
    "~$ BS_ENV=2023-1.3-py310-tiled bsui"
   ]
  },
  {
   "cell_type": "code",
   "execution_count": null,
   "id": "3b918386-3bfc-4095-9787-8f0e483a012f",
   "metadata": {
    "tags": []
   },
   "outputs": [],
   "source": [
    "from bluesky_queueserver.manager.comms import zmq_single_request"
   ]
  },
  {
   "cell_type": "markdown",
   "id": "7dc7051c-8ea7-482a-ba17-a9dce7a01d6f",
   "metadata": {},
   "source": [
    "### Check queue status"
   ]
  },
  {
   "cell_type": "code",
   "execution_count": null,
   "id": "212e8ea5-d5be-42fd-862b-089eab4c31a2",
   "metadata": {},
   "outputs": [],
   "source": [
    "zmq_single_request(method='status')"
   ]
  },
  {
   "cell_type": "raw",
   "id": "fbf822f9-d7fc-406d-8888-a9409517f94e",
   "metadata": {},
   "source": [
    "({'msg': 'RE Manager v0.0.18',\n",
    "  'items_in_queue': 0,\n",
    "  'items_in_history': 0,\n",
    "  'running_item_uid': None,\n",
    "  'manager_state': 'idle',\n",
    "  'queue_stop_pending': False,\n",
    "  'worker_environment_exists': False,\n",
    "  'worker_environment_state': 'closed',\n",
    "  'worker_background_tasks': 0,\n",
    "  're_state': None,\n",
    "  'pause_pending': False,\n",
    "  'run_list_uid': '42611b4a-3961-4cae-be29-3baf7bf7d71f',\n",
    "  'plan_queue_uid': '6d58a518-19fc-460e-87d8-b0ca247aacd5',\n",
    "  'plan_history_uid': '7273fea2-cb70-4f88-a671-5a157c137a93',\n",
    "  'devices_existing_uid': '7a76ffef-f68c-4b41-8ffd-149329f3e187',\n",
    "  'plans_existing_uid': '5420bece-0553-42d6-9141-e22e037b1768',\n",
    "  'devices_allowed_uid': '9c4f2c2d-89a5-421a-8089-e4436bbb9533',\n",
    "  'plans_allowed_uid': 'efe8042d-10a6-4b6b-a758-af4a34446f7c',\n",
    "  'plan_queue_mode': {'loop': False},\n",
    "  'task_results_uid': 'dca2960a-1091-4564-a4bf-0a3ae58f7889',\n",
    "  'lock_info_uid': '9c914309-6aa4-4fd4-a2b7-52363ff6b627',\n",
    "  'lock': {'environment': False, 'queue': False}},\n",
    " '')"
   ]
  },
  {
   "cell_type": "code",
   "execution_count": null,
   "id": "293efe9d-2a9c-4c5e-b2c6-45ebef63585b",
   "metadata": {},
   "outputs": [],
   "source": [
    "zmq_single_request(method='queue_get')"
   ]
  },
  {
   "cell_type": "raw",
   "id": "5100258f-2c6c-47a8-856e-8aaa8fcfb0c5",
   "metadata": {},
   "source": [
    "({'success': True,\n",
    "  'msg': '',\n",
    "  'items': [],\n",
    "  'running_item': {},\n",
    "  'plan_queue_uid': '6d58a518-19fc-460e-87d8-b0ca247aacd5'},\n",
    " '')"
   ]
  },
  {
   "cell_type": "markdown",
   "id": "79e7ba83-8189-45fb-b5ab-aa151fccfecd",
   "metadata": {},
   "source": [
    "### Start an environment"
   ]
  },
  {
   "cell_type": "code",
   "execution_count": null,
   "id": "752f845e-7a26-472d-b2d7-554c0b8fae7a",
   "metadata": {},
   "outputs": [],
   "source": [
    "zmq_single_request(method='environment_open')"
   ]
  },
  {
   "cell_type": "raw",
   "id": "68d10575-b675-4ea7-b72e-ae12f6e7634e",
   "metadata": {},
   "source": [
    "({'success': True, 'msg': ''}, '')"
   ]
  },
  {
   "cell_type": "code",
   "execution_count": null,
   "id": "8f1c0b8a-4758-48df-a281-7774e3f80664",
   "metadata": {},
   "outputs": [],
   "source": [
    "zmq_single_request(method='status')"
   ]
  },
  {
   "cell_type": "raw",
   "id": "94513fcf-9ee9-462c-9389-f23784c3c037",
   "metadata": {},
   "source": [
    "({'msg': 'RE Manager v0.0.18',\n",
    "  'items_in_queue': 0,\n",
    "  'items_in_history': 0,\n",
    "  'running_item_uid': None,\n",
    "  'manager_state': 'idle',\n",
    "  'queue_stop_pending': False,\n",
    "  'worker_environment_exists': True,\n",
    "  'worker_environment_state': 'idle',\n",
    "...)"
   ]
  },
  {
   "cell_type": "markdown",
   "id": "299eaffa-0f4f-4cb2-be05-82fd56ea7a5e",
   "metadata": {},
   "source": [
    "### Close an environment"
   ]
  },
  {
   "cell_type": "code",
   "execution_count": null,
   "id": "f6f8e607-e34d-4270-8d60-6547341b44ec",
   "metadata": {},
   "outputs": [],
   "source": [
    "zmq_single_request(method='environment_close')"
   ]
  },
  {
   "cell_type": "raw",
   "id": "b8bbdb10-1156-4db1-b02d-a37ea979ef5e",
   "metadata": {},
   "source": [
    "({'success': True, 'msg': ''}, '')"
   ]
  },
  {
   "cell_type": "code",
   "execution_count": null,
   "id": "77ee83d8-6c98-4b43-8cfd-8791fd66dcec",
   "metadata": {},
   "outputs": [],
   "source": [
    "zmq_single_request(method='status')"
   ]
  },
  {
   "cell_type": "raw",
   "id": "5f9f7986-ae51-4339-a5ab-6104986e98f1",
   "metadata": {},
   "source": [
    "({'msg': 'RE Manager v0.0.18',\n",
    "  'items_in_queue': 0,\n",
    "  'items_in_history': 0,\n",
    "  'running_item_uid': None,\n",
    "  'manager_state': 'idle',\n",
    "  'queue_stop_pending': False,\n",
    "  'worker_environment_exists': False,\n",
    "  'worker_environment_state': 'closed',\n",
    "...)"
   ]
  },
  {
   "cell_type": "markdown",
   "id": "5fb587c7-203a-4811-b527-34f6fb1ef5d2",
   "metadata": {},
   "source": [
    "### Check allowed plans\n",
    "##### some descirptions of plan have been omitted, refer to another cell in the end for details"
   ]
  },
  {
   "cell_type": "code",
   "execution_count": null,
   "id": "2b056d28-23dd-4c6c-9486-9a77841c1827",
   "metadata": {},
   "outputs": [],
   "source": [
    "zmq_single_request(method='plans_allowed', params={'user_group':\"primary\"})"
   ]
  },
  {
   "cell_type": "raw",
   "id": "ae436825-60c3-4dc8-9226-54edc50236ec",
   "metadata": {},
   "source": [
    "({'success': True,\n",
    "  'msg': '',\n",
    "  'plans_allowed': {\n",
    "   'LED_off': {'module': 'startup_script',\n",
    "    'name': 'LED_off',\n",
    "    'parameters': [],\n",
    "    'properties': {'is_generator': True}},\n",
    "   'LED_on': {'...},\n",
    "   'LED_on_3': {...},\n",
    "   'count': {...},\n",
    "   'deuterium_off': {...},\n",
    "   'deuterium_on': {...},\n",
    "   'halogen_off': {...},\n",
    "   'halogen_on': {..},\n",
    "   'insitu_test': {...},\n",
    "   'scan': {...},\n",
    "   'set_group_infuse': {...},\n",
    "   'set_group_withdraw': {...},\n",
    "   'setup_collection_q': {...},\n",
    "   'shutter_close': {...},\n",
    "   'shutter_open': {...}\n",
    "   'start_group_infuse': {...},\n",
    "   'stop_group': {...},\n",
    "   'take_ref_bkg_q': {...},\n",
    "   'take_uvvis_save_csv_q': {...},\n",
    "   'xray_uvvis_plan': {...},\n",
    "  'plans_allowed_uid': 'efe8042d-10a6-4b6b-a758-af4a34446f7c'},\n",
    " '')"
   ]
  },
  {
   "cell_type": "markdown",
   "id": "5341a663-60e9-49ad-a9bc-4d10ab99b74d",
   "metadata": {
    "tags": []
   },
   "source": [
    "### Add item/plan into queue"
   ]
  },
  {
   "cell_type": "code",
   "execution_count": null,
   "id": "5e859f14-ca67-4ab3-9bf8-b04870db6c47",
   "metadata": {
    "tags": []
   },
   "outputs": [],
   "source": [
    "zmq_single_request(method='queue_item_add', params={'item':{\"name\":\"insitu_test\", \"args\": [1 ,1], \n",
    "                                                            \"kwargs\": {\"sample\": \"quinine_qserver\", \n",
    "                                                                       \"csv_path\": \"/home/xf28id2/Documents/ChengHung/20230403_qserver_collection\", \n",
    "                                                                       \"data_agent\":\"tiled\"}, \n",
    "                                                            \"item_type\":\"plan\"}, \n",
    "                                                    'user_group':'primary', \n",
    "                                                    'user':'chlin'})"
   ]
  },
  {
   "cell_type": "code",
   "execution_count": null,
   "id": "32f7b36f",
   "metadata": {},
   "outputs": [],
   "source": [
    "zmq_single_request(method='queue_item_add', params={'item':{\"name\":\"insitu_test\", \"args\": [1 ,1], \"kwargs\": {\"sample\": \"quinine_qserver\", \"csv_path\": \"/home/xf28id2/Documents/ChengHung/20230403_qserver_collection\", \"data_agent\":\"tiled\"}, \"item_type\":\"plan\"}, 'user_group':'primary', 'user':'chlin'})"
   ]
  },
  {
   "cell_type": "code",
   "execution_count": null,
   "id": "ea5f28a6",
   "metadata": {},
   "outputs": [],
   "source": [
    "zmq_single_request(method='queue_item_add', params={'item':{\"name\":\"take_a_uvvis_csv_q\", \n",
    "                                                            \"kwargs\": {\"sample_type\": \"quinine_qserver\", \n",
    "                                                                        \"spectrum_type\": 'Corrected Sample', \n",
    "                                                                        \"correction_type\": 'Dark',\n",
    "                                                                        \"data_agent\":\"tiled\"}, \n",
    "                                                            \"item_type\":\"plan\"}, \n",
    "                                                    'user_group':'primary', \n",
    "                                                    'user':'chlin'})"
   ]
  },
  {
   "cell_type": "code",
   "execution_count": null,
   "id": "e2e50765-b098-4ef2-b38b-adb77d0b7d1c",
   "metadata": {},
   "outputs": [],
   "source": [
    "sl = 50            # syringe_list\n",
    "pl = 'dds1_p1'     # pump_list\n",
    "ir = '99 ul/min'   # infuse_rate\n",
    "tvl = '30 ml'      # target_vol_list\n",
    "stl = False        # set_target_list\n",
    "sml = 'steel'      # syringe_mater_list\n",
    "zmq_single_request(method='queue_item_add', \n",
    "                   params={\n",
    "                        'item':{\"name\":\"set_group_infuse2\", \n",
    "                                \"args\": [[sl], [pl]], \n",
    "                                \"kwargs\": {\"rate_list\":[ir], \"target_vol_list\":[tvl], \"set_target_list\":[stl], \"syringe_mater_list\":[sml]}, \n",
    "                                \"item_type\":\"plan\"\n",
    "                                }, 'user_group':'primary', 'user':'chlin'})"
   ]
  },
  {
   "cell_type": "code",
   "execution_count": null,
   "id": "25660cbd-3f2b-4cb4-a129-eec1287798cc",
   "metadata": {},
   "outputs": [],
   "source": [
    "zmq_single_request(method='queue_item_add', \n",
    "                params={\n",
    "                        'item':{\"name\":\"start_group_infuse\", \n",
    "                                \"args\": [[pl], [ir]],  \n",
    "                                \"item_type\":\"plan\"\n",
    "                                }, 'user_group':'primary', 'user':'chlin'})"
   ]
  },
  {
   "cell_type": "code",
   "execution_count": null,
   "id": "9dd512c1-cc95-42e5-be7a-8c3493a30034",
   "metadata": {},
   "outputs": [],
   "source": [
    "zmq_single_request(method='queue_item_add', \n",
    "                params={\n",
    "                        'item':{\"name\":\"stop_group\", \n",
    "                                \"args\": [pump_list],  \n",
    "                                \"item_type\":\"plan\"\n",
    "                                }, 'user_group':'primary', 'user':'chlin'})"
   ]
  },
  {
   "cell_type": "code",
   "execution_count": null,
   "id": "d17b2b61",
   "metadata": {},
   "outputs": [],
   "source": [
    "zmq_single_request(method='queue_item_add', params={'item':{\"name\":\"take_a_uvvis_csv_q\",\"kwargs\":{\"sample_type\":\"quinine_qserver\",\"spectrum_type\":\"Corrected Sample\",\"correction_type\":\"Dark\",\"data_agent\":\"tiled\"},\"item_type\":\"plan\"},'user_group':'primary','user':'chlin'})"
   ]
  },
  {
   "cell_type": "raw",
   "id": "3b056896-b4ef-407a-b3c4-4dc70608d227",
   "metadata": {},
   "source": [
    "({'success': True,\n",
    "  'msg': '',\n",
    "  'qsize': 1,\n",
    "  'item': {'name': 'insitu_test',\n",
    "   'args': [1, 1],\n",
    "   'kwargs': {'sample': 'quinine_qserver',\n",
    "    'csv_path': '/home/xf28id2/Documents/ChengHung/20230403_qserver_collection',\n",
    "    'data_agent': 'tiled'},\n",
    "   'item_type': 'plan',\n",
    "   'user': 'chlin',\n",
    "   'user_group': 'primary',\n",
    "   'item_uid': '6ccf0043-e483-4ba4-aa1f-9f81a249c999'}},\n",
    " '')"
   ]
  },
  {
   "cell_type": "code",
   "execution_count": null,
   "id": "e3c69db4-78cf-451b-ace3-03171621826f",
   "metadata": {
    "tags": []
   },
   "outputs": [],
   "source": [
    "zmq_single_request(method='queue_get')"
   ]
  },
  {
   "cell_type": "raw",
   "id": "c73c11f8-51e0-44dd-b453-bd73d6a1f89b",
   "metadata": {},
   "source": [
    "({'success': True,\n",
    "  'msg': '',\n",
    "  'items': [{'name': 'insitu_test',\n",
    "    'args': [1, 1],\n",
    "    'kwargs': {'sample': 'quinine_qserver',\n",
    "     'csv_path': '/home/xf28id2/Documents/ChengHung/20230403_qserver_collection',\n",
    "     'data_agent': 'tiled'},\n",
    "    'item_type': 'plan',\n",
    "    'user': 'chlin',\n",
    "    'user_group': 'primary',\n",
    "    'item_uid': '6ccf0043-e483-4ba4-aa1f-9f81a249c999'}],\n",
    "  'running_item': {},\n",
    "  'plan_queue_uid': 'd1254e92-ee24-49a1-8743-009f225ef7fd'},\n",
    " '')"
   ]
  },
  {
   "cell_type": "code",
   "execution_count": null,
   "id": "f3e95820-5e86-4bd2-a514-b20006e64de0",
   "metadata": {},
   "outputs": [],
   "source": [
    "zmq_single_request(method='status')"
   ]
  },
  {
   "cell_type": "raw",
   "id": "279496c6-62d7-4f11-be49-7ca1a3cded5d",
   "metadata": {},
   "source": [
    "({'msg': 'RE Manager v0.0.18',\n",
    "  'items_in_queue': 1,\n",
    "...)"
   ]
  },
  {
   "cell_type": "markdown",
   "id": "4d73fc58-127a-4855-8ecb-91942ddd3104",
   "metadata": {},
   "source": [
    "### Start execution in queue"
   ]
  },
  {
   "cell_type": "code",
   "execution_count": null,
   "id": "0c2685c0-55ff-493e-88c8-d5ca95539c60",
   "metadata": {},
   "outputs": [],
   "source": [
    "zmq_single_request(method='queue_start')"
   ]
  },
  {
   "cell_type": "raw",
   "id": "b8d61f29-0899-41b4-82ee-21382c82283a",
   "metadata": {},
   "source": [
    "({'success': True, 'msg': ''}, '')"
   ]
  },
  {
   "cell_type": "markdown",
   "id": "62a66d80-9154-4ef4-80fb-7795d1b12aa5",
   "metadata": {},
   "source": [
    "### Stop/Abort queue"
   ]
  },
  {
   "cell_type": "code",
   "execution_count": null,
   "id": "8805c32b-5d30-432d-8871-32a48a3ddc30",
   "metadata": {},
   "outputs": [],
   "source": [
    "zmq_single_request(method='re_stop')"
   ]
  },
  {
   "cell_type": "code",
   "execution_count": null,
   "id": "5801e47a-2c1d-4b55-ac4e-4bb2dd947c2b",
   "metadata": {},
   "outputs": [],
   "source": [
    "zmq_single_request(method='re_abort')"
   ]
  },
  {
   "cell_type": "raw",
   "id": "439db4a9-2244-4e7f-8b64-f9a324443fc6",
   "metadata": {},
   "source": [
    "({'success': True, 'msg': ''}, '')"
   ]
  },
  {
   "cell_type": "markdown",
   "id": "6793477c-f246-47e2-94df-89e4b267739d",
   "metadata": {
    "tags": []
   },
   "source": [
    "### If something already in queue, perhpas from last execution"
   ]
  },
  {
   "cell_type": "code",
   "execution_count": null,
   "id": "0e7ac6af-0640-40cf-aedb-b4a9b62f371c",
   "metadata": {
    "tags": []
   },
   "outputs": [],
   "source": [
    "zmq_single_request(method='status')"
   ]
  },
  {
   "cell_type": "raw",
   "id": "8403d27d-9151-4b14-a929-5cbc150d64aa",
   "metadata": {},
   "source": [
    "({'msg': 'RE Manager v0.0.18',\n",
    "  'items_in_queue': 11,\n",
    "  'items_in_history': 30,\n",
    "...)"
   ]
  },
  {
   "cell_type": "code",
   "execution_count": null,
   "id": "cdae9bb9-184e-4078-ba90-cca7d18f1e15",
   "metadata": {},
   "outputs": [],
   "source": [
    "zmq_single_request(method='queue_clear')"
   ]
  },
  {
   "cell_type": "raw",
   "id": "96bdc8d6-e111-4a79-8154-74370fac9e86",
   "metadata": {},
   "source": [
    "({'success': True, 'msg': ''}, '')"
   ]
  },
  {
   "cell_type": "code",
   "execution_count": null,
   "id": "a53e253c-22c9-456f-ab98-7046bfe33b7a",
   "metadata": {},
   "outputs": [],
   "source": [
    "zmq_single_request(method='history_clear')"
   ]
  },
  {
   "cell_type": "raw",
   "id": "c7bc60b7-bc92-4a4d-9858-ed351aab5623",
   "metadata": {},
   "source": [
    "({'success': True, 'msg': ''}, '')"
   ]
  },
  {
   "cell_type": "markdown",
   "id": "b948cd73-df97-4da4-a5fa-0f1377877bb8",
   "metadata": {},
   "source": [
    "### Details of allowed plans"
   ]
  },
  {
   "cell_type": "code",
   "execution_count": null,
   "id": "ab0fd84f-921e-4291-9311-144b00dffa3f",
   "metadata": {},
   "outputs": [],
   "source": [
    "zmq_single_request(method='plans_allowed', params={'user_group':\"primary\"})"
   ]
  },
  {
   "cell_type": "raw",
   "id": "a8e56eea-59f9-4f86-afb5-9088735a2743",
   "metadata": {},
   "source": [
    "({'success': True,\n",
    "  'msg': '',\n",
    "  'plans_allowed': {'LED_off': {'module': 'startup_script',\n",
    "    'name': 'LED_off',\n",
    "    'parameters': [],\n",
    "    'properties': {'is_generator': True}},\n",
    "   'LED_on': {'module': 'startup_script',\n",
    "    'name': 'LED_on',\n",
    "    'parameters': [],\n",
    "    'properties': {'is_generator': True}},\n",
    "   'LED_on_3': {'module': 'startup_script',\n",
    "    'name': 'LED_on_3',\n",
    "    'parameters': [],\n",
    "    'properties': {'is_generator': True}},\n",
    "   'count': {'description': 'Take one or more readings from detectors.',\n",
    "    'module': 'bluesky.plans',\n",
    "    'name': 'count',\n",
    "    'parameters': [{'description': \"list of 'readable' objects\",\n",
    "      'kind': {'name': 'POSITIONAL_OR_KEYWORD', 'value': 1},\n",
    "      'name': 'detectors'},\n",
    "     {'default': '1',\n",
    "      'description': 'number of readings to take; default is 1\\n\\nIf None, capture data until canceled',\n",
    "      'kind': {'name': 'POSITIONAL_OR_KEYWORD', 'value': 1},\n",
    "      'name': 'num'},\n",
    "     {'default': 'None',\n",
    "      'description': 'Time delay in seconds between successive readings; default is 0.',\n",
    "      'kind': {'name': 'POSITIONAL_OR_KEYWORD', 'value': 1},\n",
    "      'name': 'delay'},\n",
    "     {'default': 'None',\n",
    "      'description': 'hook for customizing action of inner loop (messages per step)\\nExpected signature ::\\n\\n   def f(detectors: Iterable[OphydObj]) -> Generator[Msg]:\\n       ...',\n",
    "      'kind': {'name': 'KEYWORD_ONLY', 'value': 3},\n",
    "      'name': 'per_shot'},\n",
    "     {'default': 'None',\n",
    "      'description': 'metadata',\n",
    "      'kind': {'name': 'KEYWORD_ONLY', 'value': 3},\n",
    "      'name': 'md'}],\n",
    "    'properties': {'is_generator': True}},\n",
    "   'deuterium_off': {'module': 'startup_script',\n",
    "    'name': 'deuterium_off',\n",
    "    'parameters': [],\n",
    "    'properties': {'is_generator': True}},\n",
    "   'deuterium_on': {'module': 'startup_script',\n",
    "    'name': 'deuterium_on',\n",
    "    'parameters': [],\n",
    "    'properties': {'is_generator': True}},\n",
    "   'halogen_off': {'module': 'startup_script',\n",
    "    'name': 'halogen_off',\n",
    "    'parameters': [],\n",
    "    'properties': {'is_generator': True}},\n",
    "   'halogen_on': {'module': 'startup_script',\n",
    "    'name': 'halogen_on',\n",
    "    'parameters': [],\n",
    "    'properties': {'is_generator': True}},\n",
    "   'insitu_test': {'module': 'startup_script',\n",
    "    'name': 'insitu_test',\n",
    "    'parameters': [{'kind': {'name': 'POSITIONAL_OR_KEYWORD', 'value': 1},\n",
    "      'name': 'abs_repeat'},\n",
    "     {'kind': {'name': 'POSITIONAL_OR_KEYWORD', 'value': 1},\n",
    "      'name': 'cor_repeat'},\n",
    "     {'default': 'None',\n",
    "      'kind': {'name': 'POSITIONAL_OR_KEYWORD', 'value': 1},\n",
    "      'name': 'csv_path'},\n",
    "     {'default': \"'rhodamine'\",\n",
    "      'kind': {'name': 'POSITIONAL_OR_KEYWORD', 'value': 1},\n",
    "      'name': 'sample'},\n",
    "     {'default': 'None',\n",
    "      'kind': {'name': 'POSITIONAL_OR_KEYWORD', 'value': 1},\n",
    "      'name': 'pump_list'},\n",
    "     {'default': 'None',\n",
    "      'kind': {'name': 'POSITIONAL_OR_KEYWORD', 'value': 1},\n",
    "      'name': 'precursor_list'},\n",
    "     {'default': 'None',\n",
    "      'kind': {'name': 'POSITIONAL_OR_KEYWORD', 'value': 1},\n",
    "      'name': 'mixer'},\n",
    "     {'default': 'None',\n",
    "      'kind': {'name': 'POSITIONAL_OR_KEYWORD', 'value': 1},\n",
    "      'name': 'note'},\n",
    "     {'default': \"'db'\",\n",
    "      'kind': {'name': 'POSITIONAL_OR_KEYWORD', 'value': 1},\n",
    "      'name': 'data_agent'}],\n",
    "    'properties': {'is_generator': True}},\n",
    "   'reset_pumps2': {'module': 'startup_script',\n",
    "    'name': 'reset_pumps2',\n",
    "    'parameters': [{'kind': {'name': 'POSITIONAL_OR_KEYWORD', 'value': 1},\n",
    "      'name': 'pump_list'},\n",
    "     {'default': 'True',\n",
    "      'kind': {'name': 'POSITIONAL_OR_KEYWORD', 'value': 1},\n",
    "      'name': 'clear'},\n",
    "     {'default': \"'.2 second'\",\n",
    "      'kind': {'name': 'POSITIONAL_OR_KEYWORD', 'value': 1},\n",
    "      'name': 'update'}],\n",
    "    'properties': {'is_generator': True}},\n",
    "   'scan': {'description': 'Scan over one multi-motor trajectory.',\n",
    "    'module': 'bluesky.plans',\n",
    "    'name': 'scan',\n",
    "    'parameters': [{'description': \"list of 'readable' objects\",\n",
    "      'kind': {'name': 'POSITIONAL_OR_KEYWORD', 'value': 1},\n",
    "      'name': 'detectors'},\n",
    "     {'description': \"For one dimension, ``motor, start, stop``.\\nIn general:\\n\\n.. code-block:: python\\n\\n    motor1, start1, stop1,\\n    motor2, start2, stop2,\\n    ...,\\n    motorN, startN, stopN\\n\\nMotors can be any 'settable' object (motor, temp controller, etc.)\",\n",
    "      'kind': {'name': 'VAR_POSITIONAL', 'value': 2},\n",
    "      'name': 'args'},\n",
    "     {'default': 'None',\n",
    "      'description': 'number of points',\n",
    "      'kind': {'name': 'KEYWORD_ONLY', 'value': 3},\n",
    "      'name': 'num'},\n",
    "     {'default': 'None',\n",
    "      'description': 'hook for customizing action of inner loop (messages per step).\\nSee docstring of :func:`bluesky.plan_stubs.one_nd_step` (the default)\\nfor details.',\n",
    "      'kind': {'name': 'KEYWORD_ONLY', 'value': 3},\n",
    "      'name': 'per_step'},\n",
    "     {'default': 'None',\n",
    "      'description': 'metadata',\n",
    "      'kind': {'name': 'KEYWORD_ONLY', 'value': 3},\n",
    "      'name': 'md'}],\n",
    "    'properties': {'is_generator': True}},\n",
    "   'set_group_infuse': {'module': 'startup_script',\n",
    "    'name': 'set_group_infuse',\n",
    "    'parameters': [{'kind': {'name': 'POSITIONAL_OR_KEYWORD', 'value': 1},\n",
    "      'name': 'syringe_list'},\n",
    "     {'kind': {'name': 'POSITIONAL_OR_KEYWORD', 'value': 1},\n",
    "      'name': 'pump_list'},\n",
    "     {'default': \"['50 ml', '50 ml']\",\n",
    "      'kind': {'name': 'POSITIONAL_OR_KEYWORD', 'value': 1},\n",
    "      'name': 'target_vol_list'},\n",
    "     {'default': \"['100 ul/min', '100 ul/min']\",\n",
    "      'kind': {'name': 'POSITIONAL_OR_KEYWORD', 'value': 1},\n",
    "      'name': 'rate_list'},\n",
    "     {'default': \"['steel', 'steel']\",\n",
    "      'kind': {'name': 'POSITIONAL_OR_KEYWORD', 'value': 1},\n",
    "      'name': 'syringe_mater_list'}],\n",
    "    'properties': {'is_generator': True}},\n",
    "   'set_group_withdraw': {'module': 'startup_script',\n",
    "    'name': 'set_group_withdraw',\n",
    "    'parameters': [{'kind': {'name': 'POSITIONAL_OR_KEYWORD', 'value': 1},\n",
    "      'name': 'syringe_list'},\n",
    "     {'kind': {'name': 'POSITIONAL_OR_KEYWORD', 'value': 1},\n",
    "      'name': 'pump_list'},\n",
    "     {'default': \"['50 ml', '50 ml']\",\n",
    "      'kind': {'name': 'POSITIONAL_OR_KEYWORD', 'value': 1},\n",
    "      'name': 'target_vol_list'},\n",
    "     {'default': \"['100 ul/min', '100 ul/min']\",\n",
    "      'kind': {'name': 'POSITIONAL_OR_KEYWORD', 'value': 1},\n",
    "      'name': 'rate_list'},\n",
    "     {'default': \"['steel', 'steel']\",\n",
    "      'kind': {'name': 'POSITIONAL_OR_KEYWORD', 'value': 1},\n",
    "      'name': 'syringe_mater_list'}],\n",
    "    'properties': {'is_generator': True}},\n",
    "   'setup_collection_q': {'module': 'startup_script',\n",
    "    'name': 'setup_collection_q',\n",
    "    'parameters': [{'default': '100',\n",
    "      'kind': {'name': 'POSITIONAL_OR_KEYWORD', 'value': 1},\n",
    "      'name': 'integration_time'},\n",
    "     {'default': '10',\n",
    "      'kind': {'name': 'POSITIONAL_OR_KEYWORD', 'value': 1},\n",
    "      'name': 'num_spectra_to_average'},\n",
    "     {'default': '3',\n",
    "      'kind': {'name': 'POSITIONAL_OR_KEYWORD', 'value': 1},\n",
    "      'name': 'buffer'},\n",
    "     {'default': \"'Absorbtion'\",\n",
    "      'kind': {'name': 'POSITIONAL_OR_KEYWORD', 'value': 1},\n",
    "      'name': 'spectrum_type'},\n",
    "     {'default': \"'Reference'\",\n",
    "      'kind': {'name': 'POSITIONAL_OR_KEYWORD', 'value': 1},\n",
    "      'name': 'correction_type'},\n",
    "     {'default': 'True',\n",
    "      'kind': {'name': 'POSITIONAL_OR_KEYWORD', 'value': 1},\n",
    "      'name': 'electric_dark_correction'}],\n",
    "    'properties': {'is_generator': True}},\n",
    "   'shutter_close': {'module': 'startup_script',\n",
    "    'name': 'shutter_close',\n",
    "    'parameters': [],\n",
    "    'properties': {'is_generator': True}},\n",
    "   'shutter_open': {'module': 'startup_script',\n",
    "    'name': 'shutter_open',\n",
    "    'parameters': [],\n",
    "    'properties': {'is_generator': True}},\n",
    "   'start_group_infuse': {'module': 'startup_script',\n",
    "    'name': 'start_group_infuse',\n",
    "    'parameters': [{'kind': {'name': 'POSITIONAL_OR_KEYWORD', 'value': 1},\n",
    "      'name': 'pump_list'}],\n",
    "    'properties': {'is_generator': True}},\n",
    "   'start_group_withdraw': {'module': 'startup_script',\n",
    "    'name': 'start_group_withdraw',\n",
    "    'parameters': [{'kind': {'name': 'POSITIONAL_OR_KEYWORD', 'value': 1},\n",
    "      'name': 'pump_list'}],\n",
    "    'properties': {'is_generator': True}},\n",
    "   'stop_group': {'module': 'startup_script',\n",
    "    'name': 'stop_group',\n",
    "    'parameters': [{'kind': {'name': 'POSITIONAL_OR_KEYWORD', 'value': 1},\n",
    "      'name': 'pump_list'}],\n",
    "    'properties': {'is_generator': True}},\n",
    "   'take_ref_bkg_q': {'module': 'startup_script',\n",
    "    'name': 'take_ref_bkg_q',\n",
    "    'parameters': [{'default': '15',\n",
    "      'kind': {'name': 'POSITIONAL_OR_KEYWORD', 'value': 1},\n",
    "      'name': 'integration_time'},\n",
    "     {'default': '16',\n",
    "      'kind': {'name': 'POSITIONAL_OR_KEYWORD', 'value': 1},\n",
    "      'name': 'num_spectra_to_average'},\n",
    "     {'default': '3',\n",
    "      'kind': {'name': 'POSITIONAL_OR_KEYWORD', 'value': 1},\n",
    "      'name': 'buffer'},\n",
    "     {'default': 'True',\n",
    "      'kind': {'name': 'POSITIONAL_OR_KEYWORD', 'value': 1},\n",
    "      'name': 'electric_dark_correction'},\n",
    "     {'default': \"'test'\",\n",
    "      'kind': {'name': 'POSITIONAL_OR_KEYWORD', 'value': 1},\n",
    "      'name': 'ref_name'},\n",
    "     {'default': \"'db'\",\n",
    "      'kind': {'name': 'POSITIONAL_OR_KEYWORD', 'value': 1},\n",
    "      'name': 'data_agent'},\n",
    "     {'default': 'None',\n",
    "      'kind': {'name': 'POSITIONAL_OR_KEYWORD', 'value': 1},\n",
    "      'name': 'csv_path'}],\n",
    "    'properties': {'is_generator': True}},\n",
    "   'take_uvvis_save_csv_q': {'module': 'startup_script',\n",
    "    'name': 'take_uvvis_save_csv_q',\n",
    "    'parameters': [{'default': \"'test'\",\n",
    "      'kind': {'name': 'POSITIONAL_OR_KEYWORD', 'value': 1},\n",
    "      'name': 'sample_type'},\n",
    "     {'default': 'False',\n",
    "      'kind': {'name': 'POSITIONAL_OR_KEYWORD', 'value': 1},\n",
    "      'name': 'plot'},\n",
    "     {'default': 'None',\n",
    "      'kind': {'name': 'POSITIONAL_OR_KEYWORD', 'value': 1},\n",
    "      'name': 'csv_path'},\n",
    "     {'default': \"'tiled'\",\n",
    "      'kind': {'name': 'POSITIONAL_OR_KEYWORD', 'value': 1},\n",
    "      'name': 'data_agent'},\n",
    "     {'default': \"'Absorbtion'\",\n",
    "      'kind': {'name': 'POSITIONAL_OR_KEYWORD', 'value': 1},\n",
    "      'name': 'spectrum_type'},\n",
    "     {'default': \"'Reference'\",\n",
    "      'kind': {'name': 'POSITIONAL_OR_KEYWORD', 'value': 1},\n",
    "      'name': 'correction_type'},\n",
    "     {'default': 'None',\n",
    "      'kind': {'name': 'POSITIONAL_OR_KEYWORD', 'value': 1},\n",
    "      'name': 'pump_list'},\n",
    "     {'default': 'None',\n",
    "      'kind': {'name': 'POSITIONAL_OR_KEYWORD', 'value': 1},\n",
    "      'name': 'precursor_list'},\n",
    "     {'default': 'None',\n",
    "      'kind': {'name': 'POSITIONAL_OR_KEYWORD', 'value': 1},\n",
    "      'name': 'mixer'},\n",
    "     {'default': 'None',\n",
    "      'kind': {'name': 'POSITIONAL_OR_KEYWORD', 'value': 1},\n",
    "      'name': 'note'},\n",
    "     {'default': 'None',\n",
    "      'kind': {'name': 'POSITIONAL_OR_KEYWORD', 'value': 1},\n",
    "      'name': 'md'}],\n",
    "    'properties': {'is_generator': True}},\n",
    "   'xray_uvvis_plan': {'module': 'startup_script',\n",
    "    'name': 'xray_uvvis_plan',\n",
    "    'parameters': [{'kind': {'name': 'POSITIONAL_OR_KEYWORD', 'value': 1},\n",
    "      'name': 'det1'},\n",
    "     {'kind': {'name': 'POSITIONAL_OR_KEYWORD', 'value': 1}, 'name': 'det2'},\n",
    "     {'kind': {'name': 'VAR_POSITIONAL', 'value': 2}, 'name': 'args'},\n",
    "     {'default': 'None',\n",
    "      'kind': {'name': 'KEYWORD_ONLY', 'value': 3},\n",
    "      'name': 'md'},\n",
    "     {'default': '10',\n",
    "      'kind': {'name': 'KEYWORD_ONLY', 'value': 3},\n",
    "      'name': 'num_abs'},\n",
    "     {'default': '10',\n",
    "      'kind': {'name': 'KEYWORD_ONLY', 'value': 3},\n",
    "      'name': 'num_flu'},\n",
    "     {'default': \"'test'\",\n",
    "      'kind': {'name': 'KEYWORD_ONLY', 'value': 3},\n",
    "      'name': 'sample_type'},\n",
    "     {'default': 'None',\n",
    "      'kind': {'name': 'KEYWORD_ONLY', 'value': 3},\n",
    "      'name': 'pump_list'},\n",
    "     {'default': 'None',\n",
    "      'kind': {'name': 'KEYWORD_ONLY', 'value': 3},\n",
    "      'name': 'precursor_list'},\n",
    "     {'default': 'None',\n",
    "      'kind': {'name': 'KEYWORD_ONLY', 'value': 3},\n",
    "      'name': 'mixer'},\n",
    "     {'default': 'None',\n",
    "      'kind': {'name': 'KEYWORD_ONLY', 'value': 3},\n",
    "      'name': 'note'},\n",
    "     {'kind': {'name': 'VAR_KEYWORD', 'value': 4}, 'name': 'kwargs'}],\n",
    "    'properties': {'is_generator': True}}},\n",
    "  'plans_allowed_uid': 'efe8042d-10a6-4b6b-a758-af4a34446f7c'},\n",
    " '')"
   ]
  },
  {
   "cell_type": "code",
   "execution_count": null,
   "id": "a855ce6b-f4d3-41d2-a606-c074abace2c8",
   "metadata": {
    "tags": []
   },
   "outputs": [],
   "source": [
    "# import asyncio\n",
    "# from bluesky_queueserver.manager.comms import ZMQCommSendAsync\n",
    "\n",
    "# loop = asyncio.get_event_loop()\n",
    "# # loop.create_task(some_async_function())\n",
    "\n",
    "# async def communicate():\n",
    "#     zmq_comm = ZMQCommSendAsync()\n",
    "#     for n in range(10):\n",
    "#         msg = await zmq_comm.send_message(method=\"some_method\", params={\"some_value\": n})\n",
    "#         print(f\"msg={msg}\")\n",
    "#     zmq_comm.close()\n",
    "# # asyncio.run(communicate())\n",
    "# loop.create_task(communicate())\n",
    "# # asyncio.run(communicate())\n"
   ]
  },
  {
   "cell_type": "code",
   "execution_count": null,
   "id": "2a2a563f-a80a-48e9-bc55-92e4706d79a3",
   "metadata": {},
   "outputs": [],
   "source": []
  }
 ],
 "metadata": {
  "kernelspec": {
   "display_name": "Python 3 (ipykernel)",
   "language": "python",
   "name": "python3"
  },
  "language_info": {
   "codemirror_mode": {
    "name": "ipython",
    "version": 3
   },
   "file_extension": ".py",
   "mimetype": "text/x-python",
   "name": "python",
   "nbconvert_exporter": "python",
   "pygments_lexer": "ipython3",
   "version": "3.11.6"
  }
 },
 "nbformat": 4,
 "nbformat_minor": 5
}
